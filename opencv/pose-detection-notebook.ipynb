{
 "cells": [
  {
   "cell_type": "code",
   "execution_count": 3,
   "metadata": {
    "collapsed": true
   },
   "outputs": [],
   "source": [
    "import sys\n",
    "import cv2\n",
    "import os\n",
    "from sys import platform\n",
    "import argparse"
   ]
  },
  {
   "cell_type": "code",
   "execution_count": 4,
   "outputs": [],
   "source": [
    "dir_path = os.path.dirname(os.path.abspath(''))\n",
    "try:\n",
    "    # Windows Import\n",
    "    if platform == \"win32\":\n",
    "        # Change these variables to point to the correct folder (Release/x64 etc.)\n",
    "        sys.path.append(dir_path + './python/openpose/Release');\n",
    "        os.environ['PATH']  = os.environ['PATH'] + ';' + dir_path + '/../../x64/Release;' +  dir_path + '/../../bin;'\n",
    "        import pyopenpose as op\n",
    "    else:\n",
    "        # Change these variables to point to the correct folder (Release/x64 etc.)\n",
    "        sys.path.append('./python');\n",
    "        # If you run `make install` (default path is `/usr/local/python` for Ubuntu), you can also access the OpenPose/python module from there. This will install OpenPose and the python library at your desired installation path. Ensure that this is in your python path in order to use it.\n",
    "        # sys.path.append('/usr/local/python')\n",
    "        from openpose import pyopenpose as op\n",
    "except ImportError as e:\n",
    "    print('Error: OpenPose library could not be found. Did you enable `BUILD_PYTHON` in CMake and have this Python script in the right folder?')\n",
    "    raise e"
   ],
   "metadata": {
    "collapsed": false,
    "pycharm": {
     "name": "#%%\n"
    }
   }
  },
  {
   "cell_type": "code",
   "execution_count": 14,
   "outputs": [],
   "source": [
    "  # Flags\n",
    "parser = argparse.ArgumentParser()\n",
    "parser.add_argument(\"--image_path\", default=\"./media/squat/index.jpeg\", help=\"Process an image. Read all standard formats (jpg, png, bmp, etc.).\")\n",
    "parser.add_argument(\"--write_json\")\n",
    "args = parser.parse_known_args()\n",
    "\n",
    "# Custom Params (refer to include/openpose/flags.hpp for more parameters)\n",
    "params = dict()\n",
    "params[\"model_folder\"] = \"./models/\""
   ],
   "metadata": {
    "collapsed": false,
    "pycharm": {
     "name": "#%%\n"
    }
   }
  },
  {
   "cell_type": "code",
   "execution_count": 15,
   "outputs": [
    {
     "name": "stdout",
     "output_type": "stream",
     "text": [
      "Body keypoints: \n",
      "(1, 25, 3)\n"
     ]
    }
   ],
   "source": [
    "opWrapper = op.WrapperPython()\n",
    "opWrapper.configure(params)\n",
    "opWrapper.start()\n",
    "\n",
    "\n",
    "# Process Image\n",
    "datum = op.Datum()\n",
    "imageToProcess = cv2.imread(args[0].image_path)\n",
    "datum.cvInputData = imageToProcess\n",
    "opWrapper.emplaceAndPop(op.VectorDatum([datum]))\n",
    "\n",
    "# Display Image\n",
    "print(\"Body keypoints: \\n\" + str(datum.poseKeypoints.shape))\n",
    "# cv2.imshow(\"OpenPose 1.7.0 - Tutorial Python API\", datum.cvOutputData)\n",
    "# cv2.waitKey(0)"
   ],
   "metadata": {
    "collapsed": false,
    "pycharm": {
     "name": "#%%\n"
    }
   }
  },
  {
   "cell_type": "code",
   "execution_count": 28,
   "outputs": [
    {
     "name": "stdout",
     "output_type": "stream",
     "text": [
      "{0: 'Nose', 1: 'Neck', 2: 'RShoulder', 3: 'RElbow', 4: 'RWrist', 5: 'LShoulder', 6: 'LElbow', 7: 'LWrist', 8: 'MidHip', 9: 'RHip', 10: 'RKnee', 11: 'RAnkle', 12: 'LHip', 13: 'LKnee', 14: 'LAnkle', 15: 'REye', 16: 'LEye', 17: 'REar', 18: 'LEar', 19: 'LBigToe', 20: 'LSmallToe', 21: 'LHeel', 22: 'RBigToe', 23: 'RSmallToe', 24: 'RHeel', 25: 'Background'}\n",
      "(1, 25, 3)\n",
      "[102.036766   32.15079     0.8929721]\n",
      "[ 95.431656   195.67766      0.74831706]\n"
     ]
    }
   ],
   "source": [
    "poseModel = op.PoseModel.BODY_25\n",
    "print(op.getPoseBodyPartMapping(poseModel))\n",
    "print(datum.poseKeypoints.shape)\n",
    "print(datum.poseKeypoints[0, 0])\n",
    "\n",
    "print(datum.poseKeypoints[0, 14])"
   ],
   "metadata": {
    "collapsed": false,
    "pycharm": {
     "name": "#%%\n"
    }
   }
  },
  {
   "cell_type": "code",
   "execution_count": 33,
   "outputs": [
    {
     "data": {
      "text/plain": "<AxesSubplot:xlabel='x', ylabel='yinv'>"
     },
     "execution_count": 33,
     "metadata": {},
     "output_type": "execute_result"
    },
    {
     "data": {
      "text/plain": "<Figure size 432x288 with 1 Axes>",
      "image/png": "[encoded data removed]"
     },
     "metadata": {
      "needs_background": "light"
     },
     "output_type": "display_data"
    }
   ],
   "source": [
    "import pandas as pd\n",
    "\n",
    "df = pd.DataFrame(datum.poseKeypoints[0], columns=['x', 'y', 'score'])\n",
    "df['yinv'] = -df['y']\n",
    "df.plot(x='x', y='yinv',kind='scatter')"
   ],
   "metadata": {
    "collapsed": false,
    "pycharm": {
     "name": "#%%\n"
    }
   }
  },
  {
   "cell_type": "code",
   "execution_count": null,
   "outputs": [],
   "source": [],
   "metadata": {
    "collapsed": false,
    "pycharm": {
     "name": "#%%\n"
    }
   }
  }
 ],
 "metadata": {
  "kernelspec": {
   "display_name": "Python 3",
   "language": "python",
   "name": "python3"
  },
  "language_info": {
   "codemirror_mode": {
    "name": "ipython",
    "version": 2
   },
   "file_extension": ".py",
   "mimetype": "text/x-python",
   "name": "python",
   "nbconvert_exporter": "python",
   "pygments_lexer": "ipython2",
   "version": "2.7.6"
  }
 },
 "nbformat": 4,
 "nbformat_minor": 0
}