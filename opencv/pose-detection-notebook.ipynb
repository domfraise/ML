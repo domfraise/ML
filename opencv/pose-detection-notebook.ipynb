{
 "cells": [
  {
   "cell_type": "code",
   "execution_count": 3,
   "metadata": {
    "collapsed": true
   },
   "outputs": [],
   "source": [
    "import sys\n",
    "import cv2\n",
    "import os\n",
    "from sys import platform\n",
    "import argparse"
   ]
  },
  {
   "cell_type": "code",
   "execution_count": 4,
   "outputs": [],
   "source": [
    "dir_path = os.path.dirname(os.path.abspath(''))\n",
    "try:\n",
    "    # Windows Import\n",
    "    if platform == \"win32\":\n",
    "        # Change these variables to point to the correct folder (Release/x64 etc.)\n",
    "        sys.path.append(dir_path + './python/openpose/Release');\n",
    "        os.environ['PATH']  = os.environ['PATH'] + ';' + dir_path + '/../../x64/Release;' +  dir_path + '/../../bin;'\n",
    "        import pyopenpose as op\n",
    "    else:\n",
    "        # Change these variables to point to the correct folder (Release/x64 etc.)\n",
    "        sys.path.append('./python');\n",
    "        # If you run `make install` (default path is `/usr/local/python` for Ubuntu), you can also access the OpenPose/python module from there. This will install OpenPose and the python library at your desired installation path. Ensure that this is in your python path in order to use it.\n",
    "        # sys.path.append('/usr/local/python')\n",
    "        from openpose import pyopenpose as op\n",
    "except ImportError as e:\n",
    "    print('Error: OpenPose library could not be found. Did you enable `BUILD_PYTHON` in CMake and have this Python script in the right folder?')\n",
    "    raise e"
   ],
   "metadata": {
    "collapsed": false,
    "pycharm": {
     "name": "#%%\n"
    }
   }
  },
  {
   "cell_type": "code",
   "execution_count": 96,
   "outputs": [],
   "source": [
    "  # Flags\n",
    "parser = argparse.ArgumentParser()\n",
    "parser.add_argument(\"--image_path\", default=\"./media/squat/squat-sideon.jpg\", help=\"Process an image. Read all standard formats (jpg, png, bmp, etc.).\")\n",
    "parser.add_argument(\"--3d\")\n",
    "args = parser.parse_known_args()\n",
    "\n",
    "# Custom Params (refer to include/openpose/flags.hpp for more parameters)\n",
    "params = dict()\n",
    "params[\"model_folder\"] = \"./models/\""
   ],
   "metadata": {
    "collapsed": false,
    "pycharm": {
     "name": "#%%\n"
    }
   }
  },
  {
   "cell_type": "code",
   "execution_count": 97,
   "outputs": [
    {
     "name": "stdout",
     "output_type": "stream",
     "text": [
      "Body keypoints: \n",
      "(1, 25, 3)\n"
     ]
    }
   ],
   "source": [
    "opWrapper = op.WrapperPython()\n",
    "opWrapper.configure(params)\n",
    "opWrapper.start()\n",
    "\n",
    "\n",
    "# Process Image\n",
    "datum = op.Datum()\n",
    "imageToProcess = cv2.imread(args[0].image_path)\n",
    "datum.cvInputData = imageToProcess\n",
    "opWrapper.emplaceAndPop(op.VectorDatum([datum]))\n",
    "\n",
    "# Display Image\n",
    "print(\"Body keypoints: \\n\" + str(datum.poseKeypoints.shape))\n",
    "# cv2.imshow(\"OpenPose 1.7.0 - Tutorial Python API\", datum.cvOutputData)\n",
    "# cv2.waitKey(0)"
   ],
   "metadata": {
    "collapsed": false,
    "pycharm": {
     "name": "#%%\n"
    }
   }
  },
  {
   "cell_type": "code",
   "execution_count": 103,
   "outputs": [
    {
     "name": "stdout",
     "output_type": "stream",
     "text": [
      "[1, 8, 1, 2, 1, 5, 2, 3, 3, 4, 5, 6, 6, 7, 8, 9, 9, 10, 10, 11, 8, 12, 12, 13, 13, 14, 1, 0, 0, 15, 15, 17, 0, 16, 16, 18, 2, 17, 5, 18, 14, 19, 19, 20, 14, 21, 11, 22, 22, 23, 11, 24]\n",
      "{0: 'Nose', 1: 'Neck', 2: 'RShoulder', 3: 'RElbow', 4: 'RWrist', 5: 'LShoulder', 6: 'LElbow', 7: 'LWrist', 8: 'MidHip', 9: 'RHip', 10: 'RKnee', 11: 'RAnkle', 12: 'LHip', 13: 'LKnee', 14: 'LAnkle', 15: 'REye', 16: 'LEye', 17: 'REar', 18: 'LEar', 19: 'LBigToe', 20: 'LSmallToe', 21: 'LHeel', 22: 'RBigToe', 23: 'RSmallToe', 24: 'RHeel', 25: 'Background'}\n"
     ]
    }
   ],
   "source": [
    "poseModel = op.PoseModel.BODY_25\n",
    "pairs = op.getPosePartPairs(poseModel)\n",
    "limbs = {\n",
    "    'back': [1,8],\n",
    "    'head': [1,17],\n",
    "    'rshoulder': [1,2],\n",
    "    'lshoulder': [1,5],\n",
    "    'rupperarm': [2,3],\n",
    "    'rlowerarm': [3,4],\n",
    "    'lupperarm': [5,6],\n",
    "    'llowerarm': [6,7],\n",
    "    'lhip': [8,12],\n",
    "    'rhip': [8,9],\n",
    "    'lthigh': [12,13],\n",
    "    'rthigh': [9,10],\n",
    "    'lshin': [13,14],\n",
    "    'rshin': [10,11],\n",
    "}\n",
    "print(op.getPosePartPairs(poseModel))\n",
    "mapping = op.getPoseBodyPartMapping(poseModel)\n",
    "print(mapping)"
   ],
   "metadata": {
    "collapsed": false,
    "pycharm": {
     "name": "#%%\n"
    }
   }
  },
  {
   "cell_type": "code",
   "execution_count": 107,
   "outputs": [
    {
     "name": "stdout",
     "output_type": "stream",
     "text": [
      "             x           y     score        yinv\n",
      "0   520.299927  215.743149  0.914323 -215.743149\n",
      "1   402.959808  330.260193  0.663158 -330.260193\n",
      "2   402.999359  344.365417  0.709353 -344.365417\n",
      "3   609.868958  352.646149  0.800105 -352.646149\n",
      "4   788.687622  358.223663  0.826615 -358.223663\n",
      "5   400.174133  310.776947  0.374104 -310.776947\n",
      "8   232.457275  601.464661  0.449534 -601.464661\n",
      "9   224.138702  609.816711  0.569164 -609.816711\n",
      "10  495.283539  643.395569  0.767042 -643.395569\n",
      "11  369.363556  894.916687  0.710065 -894.916687\n",
      "12  240.862900  595.853333  0.281181 -595.853333\n",
      "13  495.250885  632.260437  0.419466 -632.260437\n",
      "14  389.045288  867.057434  0.541783 -867.057434\n",
      "15  500.891235  193.415176  0.941712 -193.415176\n",
      "17  436.597534  207.297028  0.943398 -207.297028\n",
      "19  500.805695  894.958374  0.590106 -894.958374\n",
      "20  497.977722  889.270813  0.579061 -889.270813\n",
      "21  346.965881  858.666260  0.185448 -858.666260\n",
      "22  486.800171  936.847229  0.460942 -936.847229\n",
      "23  436.525421  950.844849  0.457458 -950.844849\n",
      "24  344.228058  908.924805  0.677336 -908.924805\n",
      "1 8 Neck MidHip\n",
      "1 2 Neck RShoulder\n",
      "1 5 Neck LShoulder\n",
      "2 3 RShoulder RElbow\n",
      "3 4 RElbow RWrist\n",
      "6\n",
      "6\n",
      "8 9 MidHip RHip\n",
      "9 10 RHip RKnee\n",
      "10 11 RKnee RAnkle\n",
      "8 12 MidHip LHip\n",
      "12 13 LHip LKnee\n",
      "13 14 LKnee LAnkle\n",
      "1 0 Neck Nose\n",
      "0 15 Nose REye\n",
      "15 17 REye REar\n",
      "16\n",
      "16\n",
      "2 17 RShoulder REar\n",
      "18\n",
      "14 19 LAnkle LBigToe\n",
      "19 20 LBigToe LSmallToe\n",
      "14 21 LAnkle LHeel\n",
      "11 22 RAnkle RBigToe\n",
      "22 23 RBigToe RSmallToe\n",
      "11 24 RAnkle RHeel\n"
     ]
    },
    {
     "data": {
      "text/plain": "<Figure size 432x288 with 1 Axes>",
      "image/png": "[encoded data removed]"
     },
     "metadata": {
      "needs_background": "light"
     },
     "output_type": "display_data"
    }
   ],
   "source": [
    "import pandas as pd\n",
    "import matplotlib.pyplot as plt\n",
    "\n",
    "df = pd.DataFrame(datum.poseKeypoints[0], columns=['x', 'y', 'score'])\n",
    "df = df[df['score'] > 0]\n",
    "df['yinv'] = -df['y']\n",
    "print(df)\n",
    "\n",
    "def plot_points(first_point,second_point):\n",
    "    x, y = coordinates_for_point(first_point)\n",
    "    x2, y2 = coordinates_for_point(second_point)\n",
    "    plt.plot([x, x2], [y, y2], 'ro-')\n",
    "    plt.annotate(first_point, xy=(x,y))\n",
    "    plt.annotate(second_point, xy=(x2,y2))\n",
    "    print(first_point, second_point, mapping[first_point], mapping[second_point])\n",
    "\n",
    "def coordinates_for_point(first_point):\n",
    "    x = df.loc[first_point]['x']\n",
    "    y = df.loc[first_point]['yinv']\n",
    "    return x, y\n",
    "\n",
    "for i in range(0, len(pairs), 2):\n",
    "    first_point = pairs[i]\n",
    "    second_pont = pairs[i+1]\n",
    "    try:\n",
    "        plot_points(first_point, second_pont)\n",
    "    except Exception as e:\n",
    "        print(e)\n",
    "\n",
    "# df.plot(x='x', y='yinv',kind='scatter')"
   ],
   "metadata": {
    "collapsed": false,
    "pycharm": {
     "name": "#%%\n"
    }
   }
  },
  {
   "cell_type": "code",
   "execution_count": 108,
   "outputs": [
    {
     "name": "stdout",
     "output_type": "stream",
     "text": [
      "1 8 Neck MidHip\n",
      "1 17 Neck REar\n",
      "1 2 Neck RShoulder\n",
      "1 5 Neck LShoulder\n",
      "2 3 RShoulder RElbow\n",
      "3 4 RElbow RWrist\n",
      "6\n",
      "6\n",
      "8 12 MidHip LHip\n",
      "8 9 MidHip RHip\n",
      "12 13 LHip LKnee\n",
      "9 10 RHip RKnee\n",
      "13 14 LKnee LAnkle\n",
      "10 11 RKnee RAnkle\n"
     ]
    },
    {
     "data": {
      "text/plain": "<Figure size 432x288 with 1 Axes>",
      "image/png": "[encoded data removed]"
     },
     "metadata": {
      "needs_background": "light"
     },
     "output_type": "display_data"
    }
   ],
   "source": [
    "for (limb, joints) in limbs.items():\n",
    "    try:\n",
    "        plot_points(joints[0], joints[1])\n",
    "    except Exception as e:\n",
    "        print(e)"
   ],
   "metadata": {
    "collapsed": false,
    "pycharm": {
     "name": "#%%\n"
    }
   }
  },
  {
   "cell_type": "code",
   "execution_count": 152,
   "outputs": [
    {
     "name": "stdout",
     "output_type": "stream",
     "text": [
      "[-0.5322412  -0.84659266] [ 0.9991998  -0.03999672]\n",
      "1 8 Neck MidHip\n",
      "2 3 RShoulder RElbow\n",
      "2.0920348\n",
      "119.86476\n"
     ]
    },
    {
     "data": {
      "text/plain": "<Figure size 432x288 with 1 Axes>",
      "image/png": "[encoded data removed]"
     },
     "metadata": {
      "needs_background": "light"
     },
     "output_type": "display_data"
    }
   ],
   "source": [
    "import math\n",
    "import numpy as np\n",
    "\n",
    "plt.xlim(0, 1000)\n",
    "\n",
    "plt.ylim(-1000, 0)\n",
    "\n",
    "def unit_vector(limb):\n",
    "    x,y = coordinates_for_point(limbs[('%s' % limb)][0])\n",
    "    x1,y1 = coordinates_for_point(limbs[limb][1])\n",
    "    v1 = np.array([x1-x,y1-y])\n",
    "    unit_vector = v1 / np.linalg.norm(v1)\n",
    "    return unit_vector\n",
    "unit_vector_1 = unit_vector('back')\n",
    "unit_vector_2 = unit_vector('rupperarm')\n",
    "\n",
    "print(unit_vector_1, unit_vector_2)\n",
    "\n",
    "def plot_limb(limb):\n",
    "    plot_points(limbs[limb][0], limbs[limb][1])\n",
    "plot_limb('back')\n",
    "plot_limb('rupperarm')\n",
    "\n",
    "\n",
    "dot_product = np.dot(unit_vector_1, unit_vector_2)\n",
    "rads = np.arccos(dot_product)\n",
    "print(rads)\n",
    "angle = np.degrees(rads)\n",
    "print(angle)\n",
    "\n"
   ],
   "metadata": {
    "collapsed": false,
    "pycharm": {
     "name": "#%%\n"
    }
   }
  },
  {
   "cell_type": "code",
   "execution_count": 149,
   "outputs": [
    {
     "data": {
      "text/plain": "106.19398087924807"
     },
     "execution_count": 149,
     "metadata": {},
     "output_type": "execute_result"
    }
   ],
   "source": [
    "from numpy import (array, dot, arccos, clip)\n",
    "from numpy.linalg import norm\n",
    "\n",
    "\n",
    "u = unit_vector_1\n",
    "v = unit_vector_2\n",
    "c = dot(u,v)/norm(u)/norm(v) # -> cosine of the angle\n",
    "angle = arccos(clip(c, -1, 1))\n",
    "np.degrees(angle)"
   ],
   "metadata": {
    "collapsed": false,
    "pycharm": {
     "name": "#%%\n"
    }
   }
  },
  {
   "cell_type": "code",
   "execution_count": null,
   "outputs": [],
   "source": [],
   "metadata": {
    "collapsed": false,
    "pycharm": {
     "name": "#%%\n"
    }
   }
  }
 ],
 "metadata": {
  "kernelspec": {
   "display_name": "Python 3",
   "language": "python",
   "name": "python3"
  },
  "language_info": {
   "codemirror_mode": {
    "name": "ipython",
    "version": 2
   },
   "file_extension": ".py",
   "mimetype": "text/x-python",
   "name": "python",
   "nbconvert_exporter": "python",
   "pygments_lexer": "ipython2",
   "version": "2.7.6"
  }
 },
 "nbformat": 4,
 "nbformat_minor": 0
}