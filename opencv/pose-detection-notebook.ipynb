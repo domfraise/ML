{
 "cells": [
  {
   "cell_type": "code",
   "execution_count": 3,
   "metadata": {
    "collapsed": true
   },
   "outputs": [],
   "source": [
    "import sys\n",
    "import cv2\n",
    "import os\n",
    "from sys import platform\n",
    "import argparse"
   ]
  },
  {
   "cell_type": "code",
   "execution_count": 4,
   "outputs": [],
   "source": [
    "dir_path = os.path.dirname(os.path.abspath(''))\n",
    "try:\n",
    "    # Windows Import\n",
    "    if platform == \"win32\":\n",
    "        # Change these variables to point to the correct folder (Release/x64 etc.)\n",
    "        sys.path.append(dir_path + './python/openpose/Release');\n",
    "        os.environ['PATH']  = os.environ['PATH'] + ';' + dir_path + '/../../x64/Release;' +  dir_path + '/../../bin;'\n",
    "        import pyopenpose as op\n",
    "    else:\n",
    "        # Change these variables to point to the correct folder (Release/x64 etc.)\n",
    "        sys.path.append('./python');\n",
    "        # If you run `make install` (default path is `/usr/local/python` for Ubuntu), you can also access the OpenPose/python module from there. This will install OpenPose and the python library at your desired installation path. Ensure that this is in your python path in order to use it.\n",
    "        # sys.path.append('/usr/local/python')\n",
    "        from openpose import pyopenpose as op\n",
    "except ImportError as e:\n",
    "    print('Error: OpenPose library could not be found. Did you enable `BUILD_PYTHON` in CMake and have this Python script in the right folder?')\n",
    "    raise e"
   ],
   "metadata": {
    "collapsed": false,
    "pycharm": {
     "name": "#%%\n"
    }
   }
  },
  {
   "cell_type": "code",
   "execution_count": 34,
   "outputs": [],
   "source": [
    "  # Flags\n",
    "parser = argparse.ArgumentParser()\n",
    "parser.add_argument(\"--image_path\", default=\"./media/squat/index.jpeg\", help=\"Process an image. Read all standard formats (jpg, png, bmp, etc.).\")\n",
    "parser.add_argument(\"--3d\")\n",
    "args = parser.parse_known_args()\n",
    "\n",
    "# Custom Params (refer to include/openpose/flags.hpp for more parameters)\n",
    "params = dict()\n",
    "params[\"model_folder\"] = \"./models/\""
   ],
   "metadata": {
    "collapsed": false,
    "pycharm": {
     "name": "#%%\n"
    }
   }
  },
  {
   "cell_type": "code",
   "execution_count": 35,
   "outputs": [
    {
     "name": "stdout",
     "output_type": "stream",
     "text": [
      "Body keypoints: \n",
      "(1, 25, 3)\n"
     ]
    }
   ],
   "source": [
    "opWrapper = op.WrapperPython()\n",
    "opWrapper.configure(params)\n",
    "opWrapper.start()\n",
    "\n",
    "\n",
    "# Process Image\n",
    "datum = op.Datum()\n",
    "imageToProcess = cv2.imread(args[0].image_path)\n",
    "datum.cvInputData = imageToProcess\n",
    "opWrapper.emplaceAndPop(op.VectorDatum([datum]))\n",
    "\n",
    "# Display Image\n",
    "print(\"Body keypoints: \\n\" + str(datum.poseKeypoints.shape))\n",
    "# cv2.imshow(\"OpenPose 1.7.0 - Tutorial Python API\", datum.cvOutputData)\n",
    "# cv2.waitKey(0)"
   ],
   "metadata": {
    "collapsed": false,
    "pycharm": {
     "name": "#%%\n"
    }
   }
  },
  {
   "cell_type": "code",
   "execution_count": 70,
   "outputs": [
    {
     "name": "stdout",
     "output_type": "stream",
     "text": [
      "[1, 8, 1, 2, 1, 5, 2, 3, 3, 4, 5, 6, 6, 7, 8, 9, 9, 10, 10, 11, 8, 12, 12, 13, 13, 14, 1, 0, 0, 15, 15, 17, 0, 16, 16, 18, 2, 17, 5, 18, 14, 19, 19, 20, 14, 21, 11, 22, 22, 23, 11, 24]\n",
      "{0: 'Nose', 1: 'Neck', 2: 'RShoulder', 3: 'RElbow', 4: 'RWrist', 5: 'LShoulder', 6: 'LElbow', 7: 'LWrist', 8: 'MidHip', 9: 'RHip', 10: 'RKnee', 11: 'RAnkle', 12: 'LHip', 13: 'LKnee', 14: 'LAnkle', 15: 'REye', 16: 'LEye', 17: 'REar', 18: 'LEar', 19: 'LBigToe', 20: 'LSmallToe', 21: 'LHeel', 22: 'RBigToe', 23: 'RSmallToe', 24: 'RHeel', 25: 'Background'}\n"
     ]
    }
   ],
   "source": [
    "poseModel = op.PoseModel.BODY_25\n",
    "pairs = op.getPosePartPairs(poseModel)\n",
    "print(op.getPosePartPairs(poseModel))\n",
    "print(op.getPoseBodyPartMapping(poseModel))"
   ],
   "metadata": {
    "collapsed": false,
    "pycharm": {
     "name": "#%%\n"
    }
   }
  },
  {
   "cell_type": "code",
   "execution_count": 72,
   "outputs": [
    {
     "name": "stdout",
     "output_type": "stream",
     "text": [
      "1 8\n",
      "1 2\n",
      "1 5\n",
      "2 3\n",
      "3 4\n",
      "5 6\n",
      "6 7\n",
      "8 9\n",
      "9 10\n",
      "10 11\n",
      "8 12\n",
      "12 13\n",
      "13 14\n",
      "1 0\n",
      "0 15\n",
      "15 17\n",
      "0 16\n",
      "16 18\n",
      "18\n",
      "2 17\n",
      "5 18\n",
      "18\n",
      "14 19\n",
      "19 20\n",
      "14 21\n",
      "11 22\n",
      "22 23\n",
      "11 24\n"
     ]
    },
    {
     "data": {
      "text/plain": "<Figure size 432x288 with 1 Axes>",
      "image/png": "[encoded data removed]"
     },
     "metadata": {
      "needs_background": "light"
     },
     "output_type": "display_data"
    }
   ],
   "source": [
    "import pandas as pd\n",
    "import matplotlib.pyplot as plt\n",
    "\n",
    "df = pd.DataFrame(datum.poseKeypoints[0], columns=['x', 'y', 'score'])\n",
    "df = df[df['score'] > 0]\n",
    "df['yinv'] = -df['y']\n",
    "\n",
    "for i in range(0, len(pairs), 2):\n",
    "    first_point = pairs[i]\n",
    "    second_pont = pairs[i+1]\n",
    "    print(first_point, second_pont)\n",
    "    try:\n",
    "        x = df.loc[first_point]['x']\n",
    "        x2 = df.loc[second_pont]['x']\n",
    "        y = df.loc[first_point]['yinv']\n",
    "        y2 = df.loc[second_pont]['yinv']\n",
    "\n",
    "        plt.plot([x, x2], [y, y2], 'ro-')\n",
    "        plt.annotate(first_point, xy=(x,y))\n",
    "        plt.annotate(second_pont, xy=(x2,y2))\n",
    "    except Exception as e:\n",
    "        print(e)\n",
    "\n",
    "# df.plot(x='x', y='yinv',kind='scatter')"
   ],
   "metadata": {
    "collapsed": false,
    "pycharm": {
     "name": "#%%\n"
    }
   }
  },
  {
   "cell_type": "code",
   "execution_count": null,
   "outputs": [],
   "source": [],
   "metadata": {
    "collapsed": false,
    "pycharm": {
     "name": "#%%\n"
    }
   }
  }
 ],
 "metadata": {
  "kernelspec": {
   "display_name": "Python 3",
   "language": "python",
   "name": "python3"
  },
  "language_info": {
   "codemirror_mode": {
    "name": "ipython",
    "version": 2
   },
   "file_extension": ".py",
   "mimetype": "text/x-python",
   "name": "python",
   "nbconvert_exporter": "python",
   "pygments_lexer": "ipython2",
   "version": "2.7.6"
  }
 },
 "nbformat": 4,
 "nbformat_minor": 0
}